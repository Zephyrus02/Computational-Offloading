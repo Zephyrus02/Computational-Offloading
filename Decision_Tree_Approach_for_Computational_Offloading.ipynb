{
  "cells": [
    {
      "cell_type": "code",
      "execution_count": 12,
      "metadata": {
        "id": "mU3dIl0_D714"
      },
      "outputs": [],
      "source": [
        "import pandas as pd\n",
        "import random\n",
        "import time\n",
        "from sklearn.model_selection import train_test_split\n",
        "from sklearn.tree import DecisionTreeClassifier\n",
        "from sklearn.metrics import accuracy_score, classification_report"
      ]
    },
    {
      "cell_type": "code",
      "execution_count": 2,
      "metadata": {
        "id": "cwZ_p1dVD9P-"
      },
      "outputs": [],
      "source": [
        "# Constants\n",
        "NUM_TASKS = 1000\n",
        "NUM_SERVERS = 3\n",
        "NUM_DEVICES = 10  # Multiple devices"
      ]
    },
    {
      "cell_type": "code",
      "execution_count": 13,
      "metadata": {
        "id": "dMoM9dIrHI4X"
      },
      "outputs": [],
      "source": [
        "# Generate synthetic dataset for tasks\n",
        "def generate_tasks(num_tasks):\n",
        "    data = []\n",
        "    for task_id in range(num_tasks):\n",
        "        complexity = random.randint(1, 10)\n",
        "        resources_needed = random.randint(1, 3)\n",
        "        priority = random.randint(1, 10)\n",
        "        deadline = random.randint(5, 30)  # Deadline in seconds\n",
        "        data_size = random.randint(1, 100)  # Data size in MB\n",
        "        data.append([task_id, complexity, resources_needed, priority, deadline, data_size])\n",
        "    return pd.DataFrame(data, columns=['TaskID', 'Complexity', 'ResourcesNeeded', 'Priority', 'Deadline', 'DataSize'])\n"
      ]
    },
    {
      "cell_type": "code",
      "execution_count": 14,
      "metadata": {
        "id": "UKOvS6A4HIva"
      },
      "outputs": [],
      "source": [
        "# Generate synthetic dataset for servers\n",
        "def generate_servers(num_servers):\n",
        "    data = []\n",
        "    for server_id in range(num_servers):\n",
        "        capacity = random.randint(5, 15)\n",
        "        load = random.uniform(0, 1)  # Load on server (0 to 1)\n",
        "        power_consumption = random.randint(100, 200)  # Power consumption in watts\n",
        "        network_latency = random.uniform(0.1, 2.0)  # Network latency in seconds\n",
        "        cpu = random.uniform(2.0, 4.0)  # CPU in GHz\n",
        "        memory = random.randint(8, 32)  # Memory in GB\n",
        "        storage = random.randint(100, 1000)  # Storage in GB\n",
        "        bandwidth = random.uniform(10.0, 100.0)  # Bandwidth in Mbps\n",
        "        data.append([server_id, capacity, load, power_consumption, network_latency, cpu, memory, storage, bandwidth])\n",
        "    return pd.DataFrame(data, columns=['ServerID', 'Capacity', 'Load', 'PowerConsumption', 'NetworkLatency',\n",
        "                                       'CPU', 'Memory', 'Storage', 'Bandwidth'])\n"
      ]
    },
    {
      "cell_type": "code",
      "execution_count": 15,
      "metadata": {
        "id": "dx-UqU_dD_XB"
      },
      "outputs": [],
      "source": [
        "# Generate synthetic dataset for devices\n",
        "def generate_devices(num_devices):\n",
        "    data = []\n",
        "    for device_id in range(num_devices):\n",
        "        cpu = random.uniform(1.0, 3.0)  # CPU in GHz\n",
        "        memory = random.randint(4, 16)  # Memory in GB\n",
        "        storage = random.randint(50, 500)  # Storage in GB\n",
        "        battery = random.randint(20, 100)  # Battery percentage\n",
        "        power_consumption = random.randint(5, 15)  # Power consumption in watts\n",
        "        data.append([device_id, cpu, memory, storage, battery, power_consumption])\n",
        "    return pd.DataFrame(data, columns=['DeviceID', 'CPU', 'Memory', 'Storage', 'Battery', 'PowerConsumption'])\n"
      ]
    },
    {
      "cell_type": "code",
      "execution_count": 16,
      "metadata": {},
      "outputs": [],
      "source": [
        "# Combine datasets into a single dataset for training\n",
        "def combine_datasets(tasks, servers, devices):\n",
        "    combined_data = []\n",
        "    for _, task in tasks.iterrows():\n",
        "        for _, server in servers.iterrows():\n",
        "            for _, device in devices.iterrows():\n",
        "                task_id = task['TaskID']\n",
        "                complexity = task['Complexity']\n",
        "                resources_needed = task['ResourcesNeeded']\n",
        "                priority = task['Priority']\n",
        "                deadline = task['Deadline']\n",
        "                data_size = task['DataSize']\n",
        "                \n",
        "                server_id = server['ServerID']\n",
        "                server_capacity = server['Capacity']\n",
        "                server_load = server['Load']\n",
        "                server_power_consumption = server['PowerConsumption']\n",
        "                server_latency = server['NetworkLatency']\n",
        "                server_cpu = server['CPU']\n",
        "                server_memory = server['Memory']\n",
        "                server_storage = server['Storage']\n",
        "                server_bandwidth = server['Bandwidth']\n",
        "                \n",
        "                device_cpu = device['CPU']\n",
        "                device_memory = device['Memory']\n",
        "                device_storage = device['Storage']\n",
        "                device_battery = device['Battery']\n",
        "                device_power_consumption = device['PowerConsumption']\n",
        "                \n",
        "                # Determine offloading decision\n",
        "                if (complexity > 5 and  # Heuristic for complexity\n",
        "                    resources_needed <= server_capacity and\n",
        "                    server_load < 0.7 and\n",
        "                    priority > 5 and\n",
        "                    deadline > server_latency and\n",
        "                    data_size <= server_storage and\n",
        "                    device_cpu >= server_cpu and\n",
        "                    device_memory >= server_memory):\n",
        "                    offload = 1\n",
        "                else:\n",
        "                    offload = 0\n",
        "                \n",
        "                combined_data.append([task_id, complexity, resources_needed, priority, deadline, data_size,\n",
        "                                      server_id, server_capacity, server_load, server_power_consumption, server_latency,\n",
        "                                      server_cpu, server_memory, server_storage, server_bandwidth,\n",
        "                                      device_cpu, device_memory, device_storage, device_battery, device_power_consumption, offload])\n",
        "    \n",
        "    return pd.DataFrame(combined_data, columns=['TaskID', 'Complexity', 'ResourcesNeeded', 'Priority', 'Deadline', 'DataSize',\n",
        "                                                'ServerID', 'ServerCapacity', 'ServerLoad', 'ServerPowerConsumption', 'ServerLatency',\n",
        "                                                'ServerCPU', 'ServerMemory', 'ServerStorage', 'ServerBandwidth',\n",
        "                                                'DeviceCPU', 'DeviceMemory', 'DeviceStorage', 'DeviceBattery', 'DevicePowerConsumption', 'Offload'])\n"
      ]
    },
    {
      "cell_type": "code",
      "execution_count": 6,
      "metadata": {
        "colab": {
          "base_uri": "https://localhost:8080/"
        },
        "id": "6bTkAgBkDH4B",
        "outputId": "b8361727-8585-4f87-fdf1-42293b8273f1"
      },
      "outputs": [
        {
          "name": "stdout",
          "output_type": "stream",
          "text": [
            "Tasks Dataset:\n",
            "   TaskID  Complexity  ResourcesNeeded  Priority  Deadline  DataSize\n",
            "0       0           5                2         6        13        19\n",
            "1       1           4                3         8        29        29\n",
            "2       2           4                3         8        15         7\n",
            "3       3          10                3        10        19         6\n",
            "4       4           6                2        10        14         9\n",
            "\n",
            "Servers Dataset:\n",
            "   ServerID  Capacity      Load  PowerConsumption  NetworkLatency       CPU  \\\n",
            "0         0        12  0.146221               113        1.232060  2.316920   \n",
            "1         1         7  0.671067               128        1.539642  2.637980   \n",
            "2         2         5  0.270808               137        1.740329  2.139088   \n",
            "\n",
            "   Memory  Storage  Bandwidth  \n",
            "0      13      756  66.493270  \n",
            "1       8      895  95.269601  \n",
            "2      28      280  97.292675  \n",
            "\n",
            "Devices Dataset:\n",
            "   DeviceID       CPU  Memory  Storage  Battery  PowerConsumption\n",
            "0         0  2.139379       8      417       84                 6\n",
            "1         1  2.078022      10      441       43                12\n",
            "2         2  1.160054      14      465       97                 8\n",
            "3         3  2.352281       4      495       38                10\n",
            "4         4  1.892255       6      369       51                 5\n"
          ]
        }
      ],
      "source": [
        "# Create datasets\n",
        "tasks = generate_tasks(NUM_TASKS)\n",
        "servers = generate_servers(NUM_SERVERS)\n",
        "devices = generate_devices(NUM_DEVICES)\n",
        "\n",
        "# Print datasets for verification\n",
        "print(\"Tasks Dataset:\")\n",
        "print(tasks.head())\n",
        "print(\"\\nServers Dataset:\")\n",
        "print(servers.head())\n",
        "print(\"\\nDevices Dataset:\")\n",
        "print(devices.head())"
      ]
    },
    {
      "cell_type": "code",
      "execution_count": 7,
      "metadata": {
        "id": "Ybwf_ZJgEZsx"
      },
      "outputs": [],
      "source": [
        "# Combine datasets into a single dataset for training\n",
        "def combine_datasets(tasks, servers, devices):\n",
        "    combined_data = []\n",
        "    for _, task in tasks.iterrows():\n",
        "        for _, server in servers.iterrows():\n",
        "            for _, device in devices.iterrows():\n",
        "                task_id = task['TaskID']\n",
        "                complexity = task['Complexity']\n",
        "                resources_needed = task['ResourcesNeeded']\n",
        "                priority = task['Priority']\n",
        "                deadline = task['Deadline']\n",
        "                data_size = task['DataSize']\n",
        "\n",
        "                server_id = server['ServerID']\n",
        "                server_capacity = server['Capacity']\n",
        "                server_load = server['Load']\n",
        "                server_power_consumption = server['PowerConsumption']\n",
        "                server_latency = server['NetworkLatency']\n",
        "                server_cpu = server['CPU']\n",
        "                server_memory = server['Memory']\n",
        "                server_storage = server['Storage']\n",
        "                server_bandwidth = server['Bandwidth']\n",
        "\n",
        "                device_cpu = device['CPU']\n",
        "                device_memory = device['Memory']\n",
        "                device_storage = device['Storage']\n",
        "                device_battery = device['Battery']\n",
        "                device_power_consumption = device['PowerConsumption']\n",
        "\n",
        "                # Determine offloading decision\n",
        "                if (complexity > 5 and  # Heuristic for complexity\n",
        "                    resources_needed <= server_capacity and\n",
        "                    server_load < 0.7 and\n",
        "                    priority > 5 and\n",
        "                    deadline > server_latency and\n",
        "                    data_size <= server_storage and\n",
        "                    device_cpu >= server_cpu and\n",
        "                    device_memory >= server_memory):\n",
        "                    offload = 1\n",
        "                else:\n",
        "                    offload = 0\n",
        "\n",
        "                combined_data.append([task_id, complexity, resources_needed, priority, deadline, data_size,\n",
        "                                      server_id, server_capacity, server_load, server_power_consumption, server_latency,\n",
        "                                      server_cpu, server_memory, server_storage, server_bandwidth,\n",
        "                                      device_cpu, device_memory, device_storage, device_battery, device_power_consumption, offload])\n",
        "\n",
        "    return pd.DataFrame(combined_data, columns=['TaskID', 'Complexity', 'ResourcesNeeded', 'Priority', 'Deadline', 'DataSize',\n",
        "                                                'ServerID', 'ServerCapacity', 'ServerLoad', 'ServerPowerConsumption', 'ServerLatency',\n",
        "                                                'ServerCPU', 'ServerMemory', 'ServerStorage', 'ServerBandwidth',\n",
        "                                                'DeviceCPU', 'DeviceMemory', 'DeviceStorage', 'DeviceBattery', 'DevicePowerConsumption', 'Offload'])\n"
      ]
    },
    {
      "cell_type": "code",
      "execution_count": 17,
      "metadata": {
        "id": "LA-q46AoDM_z"
      },
      "outputs": [],
      "source": [
        "# Create datasets\n",
        "tasks = generate_tasks(NUM_TASKS)\n",
        "servers = generate_servers(NUM_SERVERS)\n",
        "devices = generate_devices(NUM_DEVICES)\n",
        "\n",
        "# Create combined dataset\n",
        "combined_data = combine_datasets(tasks, servers, devices)\n",
        "\n",
        "# Split into features and labels\n",
        "X = combined_data[['Complexity', 'ResourcesNeeded', 'Priority', 'Deadline', 'DataSize',\n",
        "                   'ServerCapacity', 'ServerLoad', 'ServerPowerConsumption', 'ServerLatency',\n",
        "                   'ServerCPU', 'ServerMemory', 'ServerStorage', 'ServerBandwidth',\n",
        "                   'DeviceCPU', 'DeviceMemory', 'DeviceStorage', 'DeviceBattery', 'DevicePowerConsumption']]\n",
        "y = combined_data['Offload']\n",
        "\n",
        "# Split into training and test sets\n",
        "X_train, X_test, y_train, y_test = train_test_split(X, y, test_size=0.2, random_state=42)\n"
      ]
    },
    {
      "cell_type": "code",
      "execution_count": 18,
      "metadata": {
        "colab": {
          "base_uri": "https://localhost:8080/"
        },
        "id": "hSIyIp4-DP9G",
        "outputId": "ac73c14f-bcbb-4064-b621-23431699feb9"
      },
      "outputs": [
        {
          "name": "stdout",
          "output_type": "stream",
          "text": [
            "Accuracy: 1.00\n",
            "Classification Report:\n",
            "              precision    recall  f1-score   support\n",
            "\n",
            "           0       1.00      1.00      1.00      6000\n",
            "\n",
            "    accuracy                           1.00      6000\n",
            "   macro avg       1.00      1.00      1.00      6000\n",
            "weighted avg       1.00      1.00      1.00      6000\n",
            "\n"
          ]
        }
      ],
      "source": [
        "# Initialize and train the decision tree classifier\n",
        "clf = DecisionTreeClassifier(random_state=42)\n",
        "clf.fit(X_train, y_train)\n",
        "\n",
        "# Predict on the test set\n",
        "y_pred = clf.predict(X_test)\n",
        "\n",
        "# Evaluate the model\n",
        "accuracy = accuracy_score(y_test, y_pred)\n",
        "print(f\"Accuracy: {accuracy:.2f}\")\n",
        "print(\"Classification Report:\")\n",
        "print(classification_report(y_test, y_pred))\n"
      ]
    },
    {
      "cell_type": "code",
      "execution_count": 30,
      "metadata": {
        "colab": {
          "base_uri": "https://localhost:8080/"
        },
        "id": "3Qser7nDDT7-",
        "outputId": "75be819d-8666-4bdc-83d4-b11a6583c2d1"
      },
      "outputs": [
        {
          "name": "stdout",
          "output_type": "stream",
          "text": [
            "Offload Decision: No\n"
          ]
        },
        {
          "name": "stderr",
          "output_type": "stream",
          "text": [
            "c:\\Users\\Aneesh Raskar\\AppData\\Local\\Programs\\Python\\Python39\\lib\\site-packages\\sklearn\\base.py:493: UserWarning: X does not have valid feature names, but DecisionTreeClassifier was fitted with feature names\n",
            "  warnings.warn(\n"
          ]
        }
      ],
      "source": [
        "# Example of predicting whether to offload a new task with updated parameters\n",
        "new_task = [[7, 8, 8, 20, 50,  # Task parameters: Complexity, ResourcesNeeded, Priority, Deadline, DataSize\n",
        "             12, 0.4, 150, 1.2,  # Server parameters: ServerCapacity, ServerLoad, ServerPowerConsumption, ServerLatency\n",
        "             3.5, 16, 600, 50,  # Server parameters: ServerCPU, ServerMemory, ServerStorage, ServerBandwidth\n",
        "             1, 12, 300, 85, 10]]  # Device parameters: DeviceCPU, DeviceMemory, DeviceStorage, DeviceBattery, DevicePowerConsumption\n",
        "\n",
        "# Predict offloading decision\n",
        "offload_decision = clf.predict(new_task)\n",
        "\n",
        "print(\"Offload Decision:\", \"Yes\" if offload_decision[0] == 1 else \"No\")\n"
      ]
    },
    {
      "cell_type": "code",
      "execution_count": 21,
      "metadata": {
        "id": "_6keDkfsKPJy"
      },
      "outputs": [],
      "source": [
        "# Testing function to generate data at random intervals\n",
        "def generate_random_task():\n",
        "    \"\"\"Generate random task data.\"\"\"\n",
        "    complexity = random.randint(1, 10)\n",
        "    resources_needed = random.randint(1, 3)\n",
        "    priority = random.randint(1, 10)\n",
        "    deadline = random.randint(5, 30)  # Deadline in seconds\n",
        "    data_size = random.randint(1, 100)  # Data size in MB\n",
        "    return [complexity, resources_needed, priority, deadline, data_size]"
      ]
    },
    {
      "cell_type": "code",
      "execution_count": 22,
      "metadata": {},
      "outputs": [],
      "source": [
        "def generate_random_server():\n",
        "    \"\"\"Generate random server data.\"\"\"\n",
        "    server_capacity = random.randint(5, 15)\n",
        "    server_load = random.uniform(0, 1)  # Load on server (0 to 1)\n",
        "    server_power_consumption = random.randint(100, 200)  # Power consumption in watts\n",
        "    server_latency = random.uniform(0.1, 2.0)  # Network latency in seconds\n",
        "    server_cpu = random.uniform(2.0, 4.0)  # CPU in GHz\n",
        "    server_memory = random.randint(8, 32)  # Memory in GB\n",
        "    server_storage = random.randint(100, 1000)  # Storage in GB\n",
        "    server_bandwidth = random.uniform(10.0, 100.0)  # Bandwidth in Mbps\n",
        "    return [server_capacity, server_load, server_power_consumption, server_latency,\n",
        "            server_cpu, server_memory, server_storage, server_bandwidth]"
      ]
    },
    {
      "cell_type": "code",
      "execution_count": 23,
      "metadata": {},
      "outputs": [],
      "source": [
        "def generate_random_device():\n",
        "    \"\"\"Generate random device data.\"\"\"\n",
        "    device_cpu = random.uniform(1.0, 3.0)  # CPU in GHz\n",
        "    device_memory = random.randint(4, 16)  # Memory in GB\n",
        "    device_storage = random.randint(50, 500)  # Storage in GB\n",
        "    device_battery = random.randint(20, 100)  # Battery percentage\n",
        "    device_power_consumption = random.randint(5, 15)  # Power consumption in watts\n",
        "    return [device_cpu, device_memory, device_storage, device_battery, device_power_consumption]"
      ]
    },
    {
      "cell_type": "code",
      "execution_count": 25,
      "metadata": {},
      "outputs": [],
      "source": [
        "def generate_and_predict():\n",
        "    \"\"\"Generate random data and use the model to predict.\"\"\"\n",
        "    # Generate random data\n",
        "    task_params = generate_random_task()\n",
        "    server_params = generate_random_server()\n",
        "    device_params = generate_random_device()\n",
        "    \n",
        "    # Combine data into the format required by the model\n",
        "    new_task = [task_params[0], task_params[1], task_params[2], task_params[3], task_params[4],  # Task parameters\n",
        "                server_params[0], server_params[1], server_params[2], server_params[3],  # Server parameters\n",
        "                server_params[4], server_params[5], server_params[6], server_params[7],  # Server parameters\n",
        "                device_params[0], device_params[1], device_params[2], device_params[3], device_params[4]]  # Device parameters\n",
        "    \n",
        "    # Make a prediction\n",
        "    offload_decision = clf.predict([new_task])\n",
        "    \n",
        "    # Print results\n",
        "    print(f\"Task Parameters: {task_params}\")\n",
        "    print(f\"Server Parameters: {server_params}\")\n",
        "    print(f\"Device Parameters: {device_params}\")\n",
        "    print(\"Offload Decision:\", \"Yes\" if offload_decision[0] == 1 else \"No\")"
      ]
    },
    {
      "cell_type": "code",
      "execution_count": 26,
      "metadata": {},
      "outputs": [],
      "source": [
        "def test_model(interval_range=(1, 5), duration=30):\n",
        "    \"\"\"Generate data at random intervals for a specified duration.\"\"\"\n",
        "    start_time = time.time()\n",
        "    while time.time() - start_time < duration:\n",
        "        generate_and_predict()\n",
        "        # Sleep for a random interval between interval_range[0] and interval_range[1] seconds\n",
        "        time.sleep(random.uniform(interval_range[0], interval_range[1]))"
      ]
    },
    {
      "cell_type": "code",
      "execution_count": 27,
      "metadata": {},
      "outputs": [
        {
          "name": "stderr",
          "output_type": "stream",
          "text": [
            "c:\\Users\\Aneesh Raskar\\AppData\\Local\\Programs\\Python\\Python39\\lib\\site-packages\\sklearn\\base.py:493: UserWarning: X does not have valid feature names, but DecisionTreeClassifier was fitted with feature names\n",
            "  warnings.warn(\n"
          ]
        },
        {
          "name": "stdout",
          "output_type": "stream",
          "text": [
            "Task Parameters: [1, 2, 6, 7, 81]\n",
            "Server Parameters: [12, 0.03111619387058373, 148, 1.4907608245374648, 3.0596077242325364, 13, 358, 58.22766296163326]\n",
            "Device Parameters: [1.3971798561624151, 15, 271, 91, 11]\n",
            "Offload Decision: No\n"
          ]
        },
        {
          "name": "stderr",
          "output_type": "stream",
          "text": [
            "c:\\Users\\Aneesh Raskar\\AppData\\Local\\Programs\\Python\\Python39\\lib\\site-packages\\sklearn\\base.py:493: UserWarning: X does not have valid feature names, but DecisionTreeClassifier was fitted with feature names\n",
            "  warnings.warn(\n"
          ]
        },
        {
          "name": "stdout",
          "output_type": "stream",
          "text": [
            "Task Parameters: [10, 2, 2, 10, 6]\n",
            "Server Parameters: [11, 0.25802437368112274, 159, 1.8959608969463304, 2.1898709284001825, 28, 165, 86.16715460590743]\n",
            "Device Parameters: [1.16391276470558, 6, 415, 60, 7]\n",
            "Offload Decision: No\n"
          ]
        },
        {
          "name": "stderr",
          "output_type": "stream",
          "text": [
            "c:\\Users\\Aneesh Raskar\\AppData\\Local\\Programs\\Python\\Python39\\lib\\site-packages\\sklearn\\base.py:493: UserWarning: X does not have valid feature names, but DecisionTreeClassifier was fitted with feature names\n",
            "  warnings.warn(\n"
          ]
        },
        {
          "name": "stdout",
          "output_type": "stream",
          "text": [
            "Task Parameters: [10, 1, 7, 19, 36]\n",
            "Server Parameters: [15, 0.49141611296453913, 176, 0.8663749087957271, 2.826524309395368, 18, 570, 72.96298990640062]\n",
            "Device Parameters: [2.245113058077199, 8, 231, 89, 13]\n",
            "Offload Decision: No\n"
          ]
        },
        {
          "name": "stderr",
          "output_type": "stream",
          "text": [
            "c:\\Users\\Aneesh Raskar\\AppData\\Local\\Programs\\Python\\Python39\\lib\\site-packages\\sklearn\\base.py:493: UserWarning: X does not have valid feature names, but DecisionTreeClassifier was fitted with feature names\n",
            "  warnings.warn(\n"
          ]
        },
        {
          "name": "stdout",
          "output_type": "stream",
          "text": [
            "Task Parameters: [4, 3, 2, 6, 12]\n",
            "Server Parameters: [11, 0.49940227175721796, 171, 0.9782644217808267, 3.296547834527546, 8, 122, 47.80080528749445]\n",
            "Device Parameters: [1.594904714535913, 15, 223, 85, 11]\n",
            "Offload Decision: No\n"
          ]
        },
        {
          "name": "stderr",
          "output_type": "stream",
          "text": [
            "c:\\Users\\Aneesh Raskar\\AppData\\Local\\Programs\\Python\\Python39\\lib\\site-packages\\sklearn\\base.py:493: UserWarning: X does not have valid feature names, but DecisionTreeClassifier was fitted with feature names\n",
            "  warnings.warn(\n"
          ]
        },
        {
          "name": "stdout",
          "output_type": "stream",
          "text": [
            "Task Parameters: [4, 1, 9, 10, 61]\n",
            "Server Parameters: [9, 0.10306287626821187, 163, 0.21978428636509798, 2.1401379016524134, 12, 484, 68.11636423599361]\n",
            "Device Parameters: [1.4506013651071175, 7, 450, 28, 14]\n",
            "Offload Decision: No\n"
          ]
        },
        {
          "name": "stderr",
          "output_type": "stream",
          "text": [
            "c:\\Users\\Aneesh Raskar\\AppData\\Local\\Programs\\Python\\Python39\\lib\\site-packages\\sklearn\\base.py:493: UserWarning: X does not have valid feature names, but DecisionTreeClassifier was fitted with feature names\n",
            "  warnings.warn(\n"
          ]
        },
        {
          "name": "stdout",
          "output_type": "stream",
          "text": [
            "Task Parameters: [9, 3, 9, 24, 89]\n",
            "Server Parameters: [14, 0.3964317659907559, 185, 0.7866870069275326, 3.4911475921633333, 8, 698, 43.28655085502068]\n",
            "Device Parameters: [2.7649254462124313, 6, 348, 76, 13]\n",
            "Offload Decision: No\n"
          ]
        },
        {
          "name": "stderr",
          "output_type": "stream",
          "text": [
            "c:\\Users\\Aneesh Raskar\\AppData\\Local\\Programs\\Python\\Python39\\lib\\site-packages\\sklearn\\base.py:493: UserWarning: X does not have valid feature names, but DecisionTreeClassifier was fitted with feature names\n",
            "  warnings.warn(\n"
          ]
        },
        {
          "name": "stdout",
          "output_type": "stream",
          "text": [
            "Task Parameters: [8, 3, 8, 14, 78]\n",
            "Server Parameters: [8, 0.4433787541521935, 186, 1.2068347883833546, 3.132902288997904, 10, 946, 79.98675062565451]\n",
            "Device Parameters: [2.319863515935383, 10, 89, 83, 9]\n",
            "Offload Decision: No\n"
          ]
        },
        {
          "name": "stderr",
          "output_type": "stream",
          "text": [
            "c:\\Users\\Aneesh Raskar\\AppData\\Local\\Programs\\Python\\Python39\\lib\\site-packages\\sklearn\\base.py:493: UserWarning: X does not have valid feature names, but DecisionTreeClassifier was fitted with feature names\n",
            "  warnings.warn(\n"
          ]
        },
        {
          "name": "stdout",
          "output_type": "stream",
          "text": [
            "Task Parameters: [4, 1, 8, 10, 77]\n",
            "Server Parameters: [13, 0.7118285974425463, 171, 0.13516855717659124, 3.608220939088101, 26, 977, 69.30931230145336]\n",
            "Device Parameters: [1.2812854545166728, 4, 440, 66, 8]\n",
            "Offload Decision: No\n"
          ]
        },
        {
          "name": "stderr",
          "output_type": "stream",
          "text": [
            "c:\\Users\\Aneesh Raskar\\AppData\\Local\\Programs\\Python\\Python39\\lib\\site-packages\\sklearn\\base.py:493: UserWarning: X does not have valid feature names, but DecisionTreeClassifier was fitted with feature names\n",
            "  warnings.warn(\n"
          ]
        },
        {
          "name": "stdout",
          "output_type": "stream",
          "text": [
            "Task Parameters: [6, 3, 6, 29, 27]\n",
            "Server Parameters: [7, 0.8067123252133386, 165, 0.527241723894413, 2.116072024012713, 27, 518, 50.708339970145325]\n",
            "Device Parameters: [2.080138833796988, 8, 92, 47, 7]\n",
            "Offload Decision: No\n"
          ]
        },
        {
          "name": "stderr",
          "output_type": "stream",
          "text": [
            "c:\\Users\\Aneesh Raskar\\AppData\\Local\\Programs\\Python\\Python39\\lib\\site-packages\\sklearn\\base.py:493: UserWarning: X does not have valid feature names, but DecisionTreeClassifier was fitted with feature names\n",
            "  warnings.warn(\n"
          ]
        },
        {
          "name": "stdout",
          "output_type": "stream",
          "text": [
            "Task Parameters: [7, 1, 3, 22, 56]\n",
            "Server Parameters: [15, 0.4039369144664876, 127, 1.5624683870098386, 2.6600176745055206, 32, 664, 62.640738279219]\n",
            "Device Parameters: [2.2379605566929834, 7, 419, 31, 13]\n",
            "Offload Decision: No\n"
          ]
        },
        {
          "ename": "KeyboardInterrupt",
          "evalue": "",
          "output_type": "error",
          "traceback": [
            "\u001b[1;31m---------------------------------------------------------------------------\u001b[0m",
            "\u001b[1;31mKeyboardInterrupt\u001b[0m                         Traceback (most recent call last)",
            "Cell \u001b[1;32mIn[27], line 2\u001b[0m\n\u001b[0;32m      1\u001b[0m \u001b[38;5;66;03m# Run the testing function\u001b[39;00m\n\u001b[1;32m----> 2\u001b[0m \u001b[43mtest_model\u001b[49m\u001b[43m(\u001b[49m\u001b[43m)\u001b[49m\n",
            "Cell \u001b[1;32mIn[26], line 7\u001b[0m, in \u001b[0;36mtest_model\u001b[1;34m(interval_range, duration)\u001b[0m\n\u001b[0;32m      5\u001b[0m generate_and_predict()\n\u001b[0;32m      6\u001b[0m \u001b[38;5;66;03m# Sleep for a random interval between interval_range[0] and interval_range[1] seconds\u001b[39;00m\n\u001b[1;32m----> 7\u001b[0m \u001b[43mtime\u001b[49m\u001b[38;5;241;43m.\u001b[39;49m\u001b[43msleep\u001b[49m\u001b[43m(\u001b[49m\u001b[43mrandom\u001b[49m\u001b[38;5;241;43m.\u001b[39;49m\u001b[43muniform\u001b[49m\u001b[43m(\u001b[49m\u001b[43minterval_range\u001b[49m\u001b[43m[\u001b[49m\u001b[38;5;241;43m0\u001b[39;49m\u001b[43m]\u001b[49m\u001b[43m,\u001b[49m\u001b[43m \u001b[49m\u001b[43minterval_range\u001b[49m\u001b[43m[\u001b[49m\u001b[38;5;241;43m1\u001b[39;49m\u001b[43m]\u001b[49m\u001b[43m)\u001b[49m\u001b[43m)\u001b[49m\n",
            "\u001b[1;31mKeyboardInterrupt\u001b[0m: "
          ]
        }
      ],
      "source": [
        "# Run the testing function\n",
        "test_model()"
      ]
    },
    {
      "cell_type": "code",
      "execution_count": null,
      "metadata": {},
      "outputs": [],
      "source": []
    }
  ],
  "metadata": {
    "colab": {
      "provenance": []
    },
    "kernelspec": {
      "display_name": "Python 3",
      "name": "python3"
    },
    "language_info": {
      "codemirror_mode": {
        "name": "ipython",
        "version": 3
      },
      "file_extension": ".py",
      "mimetype": "text/x-python",
      "name": "python",
      "nbconvert_exporter": "python",
      "pygments_lexer": "ipython3",
      "version": "3.9.13"
    }
  },
  "nbformat": 4,
  "nbformat_minor": 0
}
